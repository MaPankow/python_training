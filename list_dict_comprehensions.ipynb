{
 "cells": [
  {
   "cell_type": "markdown",
   "id": "f73577d6-2f82-430b-abb4-fe2c34d8a9fd",
   "metadata": {},
   "source": [
    "# List und Dict Comprehensions"
   ]
  },
  {
   "cell_type": "markdown",
   "id": "9d297fc8-643a-443d-bf02-850c553ec7a9",
   "metadata": {},
   "source": [
    "### Inhalt:\n",
    "\n",
    "\t1.\tEinführung in List Comprehensions\n",
    "\t•\tEinfache List Comprehension\n",
    "\t•\tList Comprehension mit Bedingung\n",
    "\t•\tVerschachtelte List Comprehensions\n",
    "\t2.\tEinführung in Dict Comprehensions\n",
    "\t•\tEinfache Dict Comprehension\n",
    "\t•\tDict Comprehension mit Bedingung\n",
    "\n",
    "### 1. Einführung in List Comprehensions\n",
    "Was sind Comprehensions?\n",
    "\n",
    "Comprehensions sind ein mächtiges Werkzeug in Python, das die Erstellung von Listen, Wörterbüchern, Mengen und Generatoren auf eine prägnante und effiziente Weise ermöglicht. Sie erlauben es, durch eine verkürzte Syntax und oft auch effizienter als herkömmliche for-Schleifen, komplexe Operationen in einer einzigen Zeile auszudrücken.\n",
    "\n",
    "### Vorteile von Comprehensions:\n",
    "\n",
    "•**Kompaktheit**: Comprehensions reduzieren den Codeumfang und verbessern die Lesbarkeit, indem sie mehr Funktionalität in weniger Zeilen packen.\n",
    "\n",
    "•**Effizienz**: In vielen Fällen sind Comprehensions schneller als äquivalente for-Schleifen, da sie für solche Operationen optimiert sind.\n",
    "\n",
    "•**Klarheit**: Der Ausdruck der Absicht ist klarer und präziser, was den Code leichter verständlich macht.\n",
    "    \n",
    "## Einfache List Comprehension"
   ]
  },
  {
   "attachments": {
    "191049fe-ba42-4e2e-8d0d-35db0423e526.png": {
     "image/png": "[encoded data removed]"
    }
   },
   "cell_type": "markdown",
   "id": "bba46ef1-b630-4777-8ca7-c632169bd7d3",
   "metadata": {},
   "source": [
    "![image.png](attachment:191049fe-ba42-4e2e-8d0d-35db0423e526.png)"
   ]
  },
  {
   "cell_type": "markdown",
   "id": "c4dc9acd-db12-46b0-abdc-1f16053d236b",
   "metadata": {},
   "source": [
    "Mit einer List Comprehension können wir eine neue Liste basierend auf einer bestehenden Liste erstellen.\n",
    "\n",
    "#### Normale Iteration:"
   ]
  },
  {
   "cell_type": "code",
   "execution_count": 18,
   "id": "bf18f179-0269-4ca9-a901-ab9ecc1a9f11",
   "metadata": {},
   "outputs": [
    {
     "name": "stdout",
     "output_type": "stream",
     "text": [
      "[2, 4, 6, 8, 10]\n"
     ]
    }
   ],
   "source": [
    "numbers = [1, 2, 3, 4, 5]\n",
    "\n",
    "results = []\n",
    "for num in numbers:\n",
    "    num = num * 2\n",
    "    results.append(num)\n",
    "\n",
    "print(results)"
   ]
  },
  {
   "cell_type": "markdown",
   "id": "5a65b42d-fdc6-44c1-86c2-03561a1dc83b",
   "metadata": {},
   "source": [
    "#### List Comprehension:"
   ]
  },
  {
   "cell_type": "code",
   "execution_count": 57,
   "id": "99b106c0-19d9-4a0d-96bf-2d9422c8af2c",
   "metadata": {},
   "outputs": [
    {
     "name": "stdout",
     "output_type": "stream",
     "text": [
      "[2, 4, 6, 8, 10]\n"
     ]
    }
   ],
   "source": [
    "nums = [1, 2, 3, 4, 5]\n",
    "results = [num * 2 for num in nums]\n",
    "\n",
    "print(results) "
   ]
  },
  {
   "cell_type": "markdown",
   "id": "9aa16822-452d-4c89-b84f-c2265fd8a64b",
   "metadata": {},
   "source": [
    "#### Aufgabe \n",
    "Schreibe eine normale Liste und List Comprehension, die alle Strings in der Liste \"strings\" nehmen und sie in Großbuchstaben umwandelt. Die resultierende Liste sollte alle ursprünglichen Strings in Großbuchstaben enthalten."
   ]
  },
  {
   "cell_type": "code",
   "execution_count": null,
   "id": "3d30a639",
   "metadata": {},
   "outputs": [],
   "source": [
    "strings = [\"intro\", \"to\", \"list\", \"comps\"]"
   ]
  },
  {
   "cell_type": "code",
   "execution_count": 20,
   "id": "574b5df5-f215-4744-90f3-a78156e8f07b",
   "metadata": {},
   "outputs": [],
   "source": [
    "strings = [\"intro\", \"to\", \"list\", \"comps\"]"
   ]
  },
  {
   "cell_type": "code",
   "execution_count": 21,
   "id": "a95703b9-9be5-4cee-b25f-62770133b509",
   "metadata": {},
   "outputs": [
    {
     "name": "stdout",
     "output_type": "stream",
     "text": [
      "['INTRO', 'TO', 'LIST', 'COMPS']\n"
     ]
    }
   ],
   "source": [
    "strings = [\"intro\", \"to\", \"list\", \"comps\"]\n",
    "\n",
    "results = []\n",
    "for i in strings:\n",
    "    i = i.upper()\n",
    "    results.append(i)\n",
    "\n",
    "# results = [i.upper() for i in strings]\n",
    "\n",
    "print(results)"
   ]
  },
  {
   "cell_type": "markdown",
   "id": "4281fd87-ae34-48e1-a4d3-83a3a8ed5e3f",
   "metadata": {},
   "source": [
    "#### Aufgabe"
   ]
  },
  {
   "cell_type": "code",
   "execution_count": 49,
   "id": "33339f28-e42b-4644-a00c-f8ab1be88e90",
   "metadata": {},
   "outputs": [
    {
     "name": "stdout",
     "output_type": "stream",
     "text": [
      "results w function [5, 10, 15, 20, 25]\n"
     ]
    }
   ],
   "source": [
    "nums = [1, 2, 3, 4, 5]\n",
    "\n",
    "def timesFive(num):\n",
    "    return num * 5\n",
    "\n",
    "#results = []\n",
    "#for i in nums:\n",
    "#    i = timesFive(i)\n",
    "#   print(\"i\", i)\n",
    "#    results.append(i)\n",
    "\n",
    "# Uncomment the following line to use list comprehension\n",
    "results = [timesFive(i) for i in nums]\n",
    "\n",
    "print('results w function', results)"
   ]
  },
  {
   "cell_type": "markdown",
   "id": "33ba8cf1-7793-4969-9563-da6a31a62626",
   "metadata": {},
   "source": [
    "## List Comprehension mit Bedingung"
   ]
  },
  {
   "cell_type": "markdown",
   "id": "9ba309cb-b9b5-4d44-a34f-4f40dcb60aab",
   "metadata": {},
   "source": [
    "Wir können auch Bedingungen in List Comprehensions verwenden, um nur bestimmte Elemente einzuschließen."
   ]
  },
  {
   "cell_type": "markdown",
   "id": "14c6221d-ca8c-499b-8dbe-c503dbd4f651",
   "metadata": {},
   "source": [
    "Du hast eine Liste von Zahlen nums gegeben:"
   ]
  },
  {
   "cell_type": "code",
   "execution_count": 23,
   "id": "33891454-8aa0-4470-b443-26403a2b0b62",
   "metadata": {},
   "outputs": [],
   "source": [
    "nums = [1, 2, 3, 4, 5]"
   ]
  },
  {
   "cell_type": "markdown",
   "id": "b0a1a2b9-335a-4dd1-9114-d2e35ccb0b36",
   "metadata": {},
   "source": [
    "Erstelle ein Programm, das eine neue Liste even_squares erstellt, welche die Quadrate der geraden Zahlen aus der Liste nums enthält.\n",
    "\n",
    "Die Aufgabe besteht aus zwei Teilen:\n",
    "\n",
    "\t1.\tVerwende eine for-Schleife:\n",
    "\t•\tIteriere über die Liste nums.\n",
    "\t•\tÜberprüfe, ob die Zahl gerade ist (d.h. ob die Zahl durch 2 teilbar ist).\n",
    "\t•\tFalls die Zahl gerade ist, berechne das Quadrat dieser Zahl und füge es der Liste even_squares hinzu.(num**2)\n",
    "\t•\tGib die Liste even_squares am Ende aus.\n",
    "\t2.\tVerwende List Comprehension:\n",
    "\t•\tErstelle die gleiche Liste even_squares, aber diesmal mithilfe von List Comprehension.\n",
    "\t•\tGib die Liste even_squares am Ende aus."
   ]
  },
  {
   "cell_type": "markdown",
   "id": "f101dce4-77c9-4f73-9996-830f38dd1182",
   "metadata": {},
   "source": [
    "#### Normale Iteration:"
   ]
  },
  {
   "cell_type": "code",
   "execution_count": 24,
   "id": "24e1521d-666c-4ba2-b802-c716751b5ed6",
   "metadata": {},
   "outputs": [
    {
     "name": "stdout",
     "output_type": "stream",
     "text": [
      "[4, 16]\n"
     ]
    }
   ],
   "source": [
    "nums = [1, 2, 3, 4, 5]\n",
    "even_squares = []\n",
    "\n",
    "for num in nums:\n",
    "    if num % 2 == 0:\n",
    "        even_squares.append(num**2)\n",
    "\n",
    "print(even_squares)  # Ausgabe: [4, 16]"
   ]
  },
  {
   "cell_type": "markdown",
   "id": "2f5589eb-48ce-4d6e-b6b9-35b5a5ab2c6a",
   "metadata": {},
   "source": [
    "#### List Comprehension:"
   ]
  },
  {
   "cell_type": "code",
   "execution_count": 60,
   "id": "6ecc4e0d-7e21-4c87-b0db-607c95a0555e",
   "metadata": {},
   "outputs": [
    {
     "name": "stdout",
     "output_type": "stream",
     "text": [
      "[4, 16]\n"
     ]
    }
   ],
   "source": [
    "nums = [1, 2, 3, 4, 5]\n",
    "even_squares = [num**2 for num in nums if num % 2 == 0]\n",
    "\n",
    "print(even_squares)  # Ausgabe: [4, 16]"
   ]
  },
  {
   "cell_type": "markdown",
   "id": "f5bbdfb5-7b56-4f7a-844b-9e2a9a476fa1",
   "metadata": {},
   "source": [
    "2.\tFärbung basierend auf dem Wert:"
   ]
  },
  {
   "cell_type": "code",
   "execution_count": 6,
   "id": "ebbbce25-5da2-4f54-a348-c1752ac52e0b",
   "metadata": {},
   "outputs": [
    {
     "name": "stdout",
     "output_type": "stream",
     "text": [
      "['hot', 'cold', 'cold', 'cold', 'hot']\n"
     ]
    }
   ],
   "source": [
    "temperatures = [30, 15, 25, 10, 35]\n",
    "result = ['hot' if temp > 25 else 'cold' for temp in temperatures]\n",
    "print(result)  # Ausgabe: ['hot', 'cold', 'cold', 'cold', 'hot']"
   ]
  },
  {
   "cell_type": "markdown",
   "id": "d8008b3e-a33c-4b4d-9b4d-d4233456f285",
   "metadata": {},
   "source": [
    "3.\tVerwendung komplexerer Bedingungen:"
   ]
  },
  {
   "cell_type": "code",
   "execution_count": 51,
   "id": "8943394e-c34d-4611-aa21-a2c82d1568f6",
   "metadata": {},
   "outputs": [
    {
     "name": "stdout",
     "output_type": "stream",
     "text": [
      "['positive', 'negative', 'positive', 'negative', 'positive', 'negative', 'zero']\n"
     ]
    }
   ],
   "source": [
    "numbers = [1, -2, 3, -4, 5, -6, 0]\n",
    "result = ['positive' if num > 0 else 'negative' if num < 0 else 'zero' for num in numbers]\n",
    "print(result)  # Ausgabe: ['positive', 'negative', 'positive', 'negative', 'positive', 'negative']"
   ]
  },
  {
   "cell_type": "markdown",
   "id": "7071791c-5ddd-48ef-9a58-25cb28bb65a2",
   "metadata": {},
   "source": [
    "Wenn Sie nur eine if-Bedingung verwenden und kein else, steht die if-Bedingung rechts am Ende der List Comprehension\n",
    "Wenn Sie eine if-else-Bedingung verwenden, wird die Bedingung direkt nach dem Ausdruck und vor der for-Schleife platziert"
   ]
  },
  {
   "cell_type": "markdown",
   "id": "4d0e2840-356a-44d3-824c-0bb9cb83a4ad",
   "metadata": {},
   "source": [
    "## Verschachtelte List Comprehensions\n",
    "List Comprehensions können auch verschachtelt werden, um Listen von Listen zu erzeugen."
   ]
  },
  {
   "cell_type": "markdown",
   "id": "359b349d-fd1b-4533-be87-286bdb97d85b",
   "metadata": {},
   "source": [
    "#### Normale Iteration:"
   ]
  },
  {
   "cell_type": "code",
   "execution_count": 53,
   "id": "45d59096-3b84-4bc1-9ea8-2191fdbf0b9e",
   "metadata": {},
   "outputs": [
    {
     "name": "stdout",
     "output_type": "stream",
     "text": [
      "[1, 2, 3]\n",
      "1\n",
      "2\n",
      "3\n",
      "[4, 5, 6]\n",
      "4\n",
      "5\n",
      "6\n",
      "[7, 8, 9]\n",
      "7\n",
      "8\n",
      "9\n",
      "[1, 2, 3, 4, 5, 6, 7, 8, 9]\n"
     ]
    }
   ],
   "source": [
    "matrix = [[1, 2, 3], [4, 5, 6], [7, 8, 9]]\n",
    "flattened = []\n",
    "\n",
    "for row in matrix:\n",
    "    print(row)\n",
    "    for num in row: \n",
    "        print(num) #Spalte\n",
    "        flattened.append(num)\n",
    "\n",
    "print(flattened)  # Ausgabe: [1, 2, 3, 4, 5, 6, 7, 8, 9]"
   ]
  },
  {
   "cell_type": "markdown",
   "id": "40b84e55-b344-4c9a-a854-074058e78c49",
   "metadata": {},
   "source": [
    "#### List Comprehension:"
   ]
  },
  {
   "cell_type": "code",
   "execution_count": 29,
   "id": "08c1a4de-36f0-46e9-8b49-9b5cc4dd452b",
   "metadata": {},
   "outputs": [
    {
     "name": "stdout",
     "output_type": "stream",
     "text": [
      "[1, 2, 3, 4, 5, 6, 7, 8, 9]\n"
     ]
    }
   ],
   "source": [
    "matrix = [[1, 2, 3], [4, 5, 6], [7, 8, 9]]\n",
    "flattened = [num for row in matrix for num in row]\n",
    "\n",
    "print(flattened)  # Ausgabe: [1, 2, 3, 4, 5, 6, 7, 8, 9]"
   ]
  },
  {
   "cell_type": "markdown",
   "id": "ce932fba-3fdf-4b2c-b93c-0b2e5a1c2827",
   "metadata": {},
   "source": [
    "## 2. Einführung in Dict Comprehensions"
   ]
  },
  {
   "cell_type": "markdown",
   "id": "10a38d63-d352-4473-9ce9-f6697e6d26eb",
   "metadata": {},
   "source": [
    "#### Einfache Dict Comprehension\n",
    "Dict Comprehensions ermöglichen es uns, Wörterbücher auf ähnliche Weise wie Listen zu erstellen.\n"
   ]
  },
  {
   "cell_type": "code",
   "execution_count": 55,
   "id": "3688afff-8710-45d1-bfd0-bf58b586d959",
   "metadata": {},
   "outputs": [
    {
     "name": "stdout",
     "output_type": "stream",
     "text": [
      "['John', 'Matt']\n"
     ]
    }
   ],
   "source": [
    "dicts = [{\"name\": \"John\"}, {\"name\": \"Matt\"}]\n",
    "\n",
    "# grab names from dict\n",
    "#results = []\n",
    "#for i in dicts:\n",
    "#    results.append(i['name'])\n",
    "\n",
    "results = [i['name'] for i in dicts]\n",
    "\n",
    "print(results)"
   ]
  },
  {
   "cell_type": "code",
   "execution_count": 31,
   "id": "0033379f-5409-4e36-a62b-4d71aaea1072",
   "metadata": {},
   "outputs": [
    {
     "name": "stdout",
     "output_type": "stream",
     "text": [
      "{1: 1, 2: 4, 3: 9, 4: 16, 5: 25}\n"
     ]
    }
   ],
   "source": [
    "nums = [1, 2, 3, 4, 5]\n",
    "squares_dict = {}\n",
    "\n",
    "for num in nums:\n",
    "    squares_dict[num] = num**2\n",
    "\n",
    "print(squares_dict)  # Ausgabe: {1: 1, 2: 4, 3: 9, 4: 16, 5: 25}"
   ]
  },
  {
   "cell_type": "code",
   "execution_count": 5,
   "id": "5f15f020-0625-48e1-a427-92e7e5ceac8a",
   "metadata": {},
   "outputs": [
    {
     "name": "stdout",
     "output_type": "stream",
     "text": [
      "{1: 1, 2: 4, 3: 9, 4: 16, 5: 25}\n"
     ]
    }
   ],
   "source": [
    "nums = [1, 2, 3, 4, 5]\n",
    "squares_dict = {num: num**2 for num in nums}\n",
    "\n",
    "print(squares_dict)  # Ausgabe: {1: 1, 2: 4, 3: 9, 4: 16, 5: 25}"
   ]
  },
  {
   "cell_type": "markdown",
   "id": "aa9d3152-1afd-4c33-b31e-e32b7d927e7c",
   "metadata": {},
   "source": [
    "### Dict Comprehension mit Bedingung\n",
    "\n",
    "Wir können auch Bedingungen in Dict Comprehensions verwenden."
   ]
  },
  {
   "cell_type": "code",
   "execution_count": 33,
   "id": "c38587c7-43d2-48cb-bae7-99395bd4e415",
   "metadata": {},
   "outputs": [
    {
     "name": "stdout",
     "output_type": "stream",
     "text": [
      "{2: 4, 4: 16}\n"
     ]
    }
   ],
   "source": [
    "nums = [1, 2, 3, 4, 5]\n",
    "even_squares_dict = {}\n",
    "\n",
    "for num in nums:\n",
    "    if num % 2 == 0:\n",
    "        even_squares_dict[num] = num**2\n",
    "\n",
    "print(even_squares_dict)  # Ausgabe: {2: 4, 4: 16}"
   ]
  },
  {
   "cell_type": "code",
   "execution_count": 34,
   "id": "0abfde0c-b47c-44d3-8826-e7a6512dc71f",
   "metadata": {},
   "outputs": [
    {
     "name": "stdout",
     "output_type": "stream",
     "text": [
      "{2: 4, 4: 16}\n"
     ]
    }
   ],
   "source": [
    "nums = [1, 2, 3, 4, 5]\n",
    "even_squares_dict = {num: num**2 for num in nums if num % 2 == 0}\n",
    "\n",
    "print(even_squares_dict)  # Ausgabe: {2: 4, 4: 16}"
   ]
  },
  {
   "cell_type": "markdown",
   "id": "99677c31-52f6-41cd-b000-beb87038126d",
   "metadata": {},
   "source": [
    "#### Aufgabe\n",
    "\n",
    "Erstellt ein Python-Programm, das die folgenden Aufgaben erfüllt:\n",
    "\n",
    "1. **Erstellen einer Liste von Quadratzahlen**:\n",
    "    - Erstellt eine Liste der Quadratzahlen von 1 bis 10 mithilfe einer List Comprehension und range().\n",
    "\n",
    "2. **Filtern von geraden Zahlen**:\n",
    "    - Filtert die geraden Zahlen aus der Liste der Quadratzahlen mithilfe einer List Comprehension.\n",
    "\n",
    "3. **Erstellen eines Wörterbuchs mit Wortlängen**:\n",
    "    - Verwendet eine Dict Comprehension, um die Wörter in einer Liste als Schlüssel und ihre Längen als Werte zu speichern."
   ]
  },
  {
   "cell_type": "markdown",
   "id": "8b1422d6-1145-4e70-9ce3-684690859800",
   "metadata": {},
   "source": [
    "#### Beispiel für die Ausgabe:\n",
    "\n",
    "Quadratzahlen von 1 bis 10: [1, 4, 9, 16, 25, 36, 49, 64, 81, 100]\n",
    "\n",
    "Gerade Quadratzahlen: [4, 16, 36, 64, 100]\n",
    "\n",
    "Wortlängen: {'apple': 5, 'banana': 6, 'cherry': 6, 'date': 4}"
   ]
  },
  {
   "cell_type": "code",
   "execution_count": 9,
   "id": "7cd2433c-37fe-489d-b821-009210f580e0",
   "metadata": {},
   "outputs": [
    {
     "name": "stdout",
     "output_type": "stream",
     "text": [
      "Quadratzahlen von 1 bis 10: [1, 4, 9, 16, 25, 36, 49, 64, 81, 100]\n",
      "Gerade Quadratzahlen: [4, 16, 36, 64, 100]\n",
      "Wortlängen: {'kiwi': 4, 'apple': 5, 'cherry': 6, 'banana': 6}\n"
     ]
    }
   ],
   "source": [
    "squares = [x ** 2 for x in range(1, 11)]\n",
    "print(\"Quadratzahlen von 1 bis 10:\", squares)\n",
    "\n",
    "even_squares = [num for num in squares if num % 2 == 0]\n",
    "print(\"Gerade Quadratzahlen:\", even_squares)\n",
    "\n",
    "words = [\"kiwi\", \"apple\", \"cherry\", \"banana\"]\n",
    "word_lengths = {word: len(word) for word in words}\n",
    "print(\"Wortlängen:\", word_lengths)"
   ]
  },
  {
   "cell_type": "markdown",
   "id": "6e3d6d8f-9ff9-4440-9b54-1d6ded5bf44f",
   "metadata": {},
   "source": [
    "## Map & Filter\n",
    "In Python können List Comprehensions häufig anstelle von `map` und `filter` verwendet werden, um den Code kompakter und oft auch lesbarer zu machen. Hier sind Beispiele, wie man List Comprehensions als Ersatz für `map` und `filter` verwendet.\n",
    "\n",
    "### `map` mit List Comprehensions\n",
    "\n",
    "Die `map`-Funktion wird verwendet, um eine Funktion auf alle Elemente einer Liste anzuwenden. Eine List Comprehension kann dasselbe erreichen, indem sie die Funktion direkt im Ausdruck anwendet.\n",
    "\n",
    "#### Beispiel mit `map`\n",
    "\n",
    "```python\n",
    "numbers = [1, 2, 3, 4, 5]\n",
    "\n",
    "# Verwenden von map\n",
    "squared_numbers = list(map(lambda x: x ** 2, numbers))\n",
    "print(squared_numbers)  # Ausgabe: [1, 4, 9, 16, 25]\n",
    "```\n",
    "\n",
    "#### Beispiel mit List Comprehension\n",
    "\n",
    "```python\n",
    "numbers = [1, 2, 3, 4, 5]\n",
    "\n",
    "# Verwenden einer List Comprehension\n",
    "squared_numbers = [x ** 2 for x in numbers]\n",
    "print(squared_numbers)  # Ausgabe: [1, 4, 9, 16, 25]\n",
    "```\n",
    "\n",
    "### `filter` mit List Comprehensions\n",
    "\n",
    "Die `filter`-Funktion wird verwendet, um Elemente aus einer Liste herauszufiltern, die eine bestimmte Bedingung erfüllen. Eine List Comprehension kann dasselbe erreichen, indem sie die Bedingung im `if`-Teil der Comprehension angibt.\n",
    "\n",
    "#### Beispiel mit `filter`\n",
    "\n",
    "```python\n",
    "numbers = [1, 2, 3, 4, 5, 6]\n",
    "\n",
    "# Verwenden von filter\n",
    "even_numbers = list(filter(lambda x: x % 2 == 0, numbers))\n",
    "print(even_numbers)  # Ausgabe: [2, 4, 6]\n",
    "```\n",
    "\n",
    "#### Beispiel mit List Comprehension\n",
    "\n",
    "```python\n",
    "numbers = [1, 2, 3, 4, 5, 6]\n",
    "\n",
    "# Verwenden einer List Comprehension\n",
    "even_numbers = [x for x in numbers if x % 2 == 0]\n",
    "print(even_numbers)  # Ausgabe: [2, 4, 6]\n",
    "```\n",
    "\n",
    "### Kombination von `map` und `filter` mit List Comprehensions\n",
    "\n",
    "Wenn Sie sowohl `map` als auch `filter` zusammen verwenden möchten, können Sie dies ebenfalls mit einer List Comprehension erreichen.\n",
    "\n",
    "#### Beispiel mit `map` und `filter`\n",
    "\n",
    "```python\n",
    "numbers = [1, 2, 3, 4, 5, 6]\n",
    "\n",
    "# Verwenden von map und filter zusammen\n",
    "squared_even_numbers = list(map(lambda x: x ** 2, filter(lambda x: x % 2 == 0, numbers)))\n",
    "print(squared_even_numbers)  # Ausgabe: [4, 16, 36]\n",
    "```\n",
    "\n",
    "#### Beispiel mit List Comprehension\n",
    "\n",
    "```python\n",
    "numbers = [1, 2, 3, 4, 5, 6]\n",
    "\n",
    "# Verwenden einer List Comprehension\n",
    "squared_even_numbers = [x ** 2 for x in numbers if x % 2 == 0]\n",
    "print(squared_even_numbers)  # Ausgabe: [4, 16, 36]\n",
    "```\n",
    "\n",
    "### Zusammenfassung\n",
    "\n",
    "- **`map`**: Verwenden Sie eine List Comprehension, um eine Funktion auf jedes Element einer Liste anzuwenden.\n",
    "- **`filter`**: Verwenden Sie eine List Comprehension mit einer `if`-Bedingung, um Elemente basierend auf einer Bedingung herauszufiltern.\n",
    "- **Kombination**: Sie können beide zusammen in einer List Comprehension verwenden, um gefilterte Elemente zu transformieren.\n",
    "\n",
    "List Comprehensions bieten eine prägnante und oft lesbare Alternative zu den traditionellen `map`- und `filter`-Funktionen in Python."
   ]
  },
  {
   "cell_type": "code",
   "execution_count": null,
   "id": "26691e65-1e00-430d-b82b-903f735640a9",
   "metadata": {},
   "outputs": [],
   "source": []
  }
 ],
 "metadata": {
  "kernelspec": {
   "display_name": "Python 3 (ipykernel)",
   "language": "python",
   "name": "python3"
  },
  "language_info": {
   "codemirror_mode": {
    "name": "ipython",
    "version": 3
   },
   "file_extension": ".py",
   "mimetype": "text/x-python",
   "name": "python",
   "nbconvert_exporter": "python",
   "pygments_lexer": "ipython3",
   "version": "3.12.3"
  }
 },
 "nbformat": 4,
 "nbformat_minor": 5
}
