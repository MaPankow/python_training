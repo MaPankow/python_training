{
 "cells": [
  {
   "cell_type": "markdown",
   "id": "d25618ec",
   "metadata": {},
   "source": [
    "# Packaging\n"
   ]
  },
  {
   "cell_type": "markdown",
   "id": "cd6c121b",
   "metadata": {},
   "source": [
    "## 1. Einführung in Python Packages \n"
   ]
  },
  {
   "cell_type": "markdown",
   "id": "24a19830",
   "metadata": {},
   "source": [
    "### Theorie: Was ist ein Package?\n",
    "\n",
    "Ein Package ist eine Sammlung von Python-Modulen, die in einem Verzeichnis mit einer speziellen `__init__.py`-Datei organisiert sind. Diese Struktur ermöglicht es, den Code besser zu organisieren und wiederzuverwenden."
   ]
  },
  {
   "cell_type": "markdown",
   "id": "48131d9a",
   "metadata": {},
   "source": [
    "### Praxis: Beispiel für ein einfaches Package\n"
   ]
  },
  {
   "cell_type": "code",
   "execution_count": null,
   "id": "ebeaa55c",
   "metadata": {},
   "outputs": [],
   "source": [
    "# Beispiel für ein einfaches Package\n",
    "!mkdir mypackage\n",
    "!touch mypackage/__init__.py\n",
    "!echo \"def hello():\\n    print('Hello, world!')\" > mypackage/mymodule.py\n",
    "import mypackage.mymodule as mm\n",
    "mm.hello()"
   ]
  },
  {
   "cell_type": "markdown",
   "id": "4bacaf1c",
   "metadata": {},
   "source": [
    "## 2. Installation von Packages mit pip\n"
   ]
  },
  {
   "cell_type": "markdown",
   "id": "eb5cccb8",
   "metadata": {},
   "source": [
    "### Theorie: Was ist pip?\n",
    "\n",
    "pip ist ein Paketverwaltungssystem für Python, mit dem man Pakete aus dem Python Package Index (PyPI) oder aus lokalen Quellen installieren kann."
   ]
  },
  {
   "cell_type": "markdown",
   "id": "1094f849",
   "metadata": {},
   "source": [
    "### Praxis: Installation eines Beispiel-Packages von PyPI\n"
   ]
  },
  {
   "cell_type": "code",
   "execution_count": null,
   "id": "dfa7e656",
   "metadata": {},
   "outputs": [],
   "source": [
    "# Installation eines Beispiel-Packages von PyPI\n",
    "!pip install requests\n"
   ]
  },
  {
   "cell_type": "markdown",
   "id": "8a54dcee",
   "metadata": {},
   "source": [
    "### Praxis: Installation eines lokal gespeicherten Packages\n"
   ]
  },
  {
   "cell_type": "code",
   "execution_count": null,
   "id": "d9c2bb77",
   "metadata": {},
   "outputs": [],
   "source": [
    "# Installation eines lokal gespeicherten Packages\n",
    "!pip install -e ./mypackage"
   ]
  },
  {
   "cell_type": "markdown",
   "id": "438c526a",
   "metadata": {},
   "source": [
    "## 3. Aufbau eines eigenen Packages \n"
   ]
  },
  {
   "cell_type": "markdown",
   "id": "b94db1e2",
   "metadata": {},
   "source": [
    "### Theorie: Struktur eines Python-Packages\n",
    "\n",
    "Eine typische Pythonstruktur sieht folgendermaßen aus:\n",
    "\n",
    "```\n",
    "my_project/\n",
    "├── my_package/\n",
    "│   ├── __init__.py\n",
    "│   ├── module1.py\n",
    "│   ├── module2.py\n",
    "│   └── subpackage/\n",
    "│       ├── __init__.py\n",
    "│       └── module3.py\n",
    "├── tests/\n",
    "│   ├── __init__.py\n",
    "│   ├── test_module1.py\n",
    "│   └── test_module2.py\n",
    "├── README.md\n",
    "├── setup.py\n",
    "└── requirements.txt\n",
    "\n",
    "```"
   ]
  },
  {
   "cell_type": "markdown",
   "id": "1f52c407-a6b6-41af-8b21-8ff8b1edee71",
   "metadata": {},
   "source": [
    "pip freeze > requirements.txt"
   ]
  },
  {
   "cell_type": "markdown",
   "id": "19b86944",
   "metadata": {},
   "source": [
    "### Praxis: Schritt-für-Schritt-Erstellung eines eigenen kleinen Packages\n"
   ]
  },
  {
   "cell_type": "code",
   "execution_count": null,
   "id": "5809515d",
   "metadata": {},
   "outputs": [],
   "source": [
    "# Erstellen des Package-Verzeichnisses und der Module\n",
    "!mkdir mypackage\n",
    "!touch mypackage/__init__.py\n",
    "!echo \"def hello():\\n    print('Hello, world!')\" > mypackage/mymodule.py\n",
    "\n",
    "# Erstellen der setup.py-Datei\n",
    "!echo \"from setuptools import setup, find_packages\\n\\nsetup(\\n    name='mypackage',\\n    version='0.1',\\n    packages=find_packages(),\\n    install_requires=[],\\n)\" > mypackage/setup.py"
   ]
  },
  {
   "cell_type": "code",
   "execution_count": 1,
   "id": "c485ce51-35e2-4376-8116-e3c177d927bd",
   "metadata": {},
   "outputs": [
    {
     "ename": "ModuleNotFoundError",
     "evalue": "No module named 'setuptools'",
     "output_type": "error",
     "traceback": [
      "\u001b[0;31m---------------------------------------------------------------------------\u001b[0m",
      "\u001b[0;31mModuleNotFoundError\u001b[0m                       Traceback (most recent call last)",
      "Cell \u001b[0;32mIn[1], line 1\u001b[0m\n\u001b[0;32m----> 1\u001b[0m \u001b[38;5;28;01mfrom\u001b[39;00m \u001b[38;5;21;01msetuptools\u001b[39;00m \u001b[38;5;28;01mimport\u001b[39;00m setup, find_packages\n\u001b[1;32m      3\u001b[0m setup(\n\u001b[1;32m      4\u001b[0m     name\u001b[38;5;241m=\u001b[39m\u001b[38;5;124m'\u001b[39m\u001b[38;5;124myour_project_name\u001b[39m\u001b[38;5;124m'\u001b[39m,\n\u001b[1;32m      5\u001b[0m     version\u001b[38;5;241m=\u001b[39m\u001b[38;5;124m'\u001b[39m\u001b[38;5;124m0.1.0\u001b[39m\u001b[38;5;124m'\u001b[39m,\n\u001b[0;32m   (...)\u001b[0m\n\u001b[1;32m     31\u001b[0m     python_requires\u001b[38;5;241m=\u001b[39m\u001b[38;5;124m'\u001b[39m\u001b[38;5;124m>=3.7\u001b[39m\u001b[38;5;124m'\u001b[39m,\n\u001b[1;32m     32\u001b[0m )\n",
      "\u001b[0;31mModuleNotFoundError\u001b[0m: No module named 'setuptools'"
     ]
    }
   ],
   "source": [
    "from setuptools import setup, find_packages\n",
    "\n",
    "setup(\n",
    "    name='your_project_name',\n",
    "    version='0.1.0',\n",
    "    packages=find_packages(),\n",
    "    install_requires=[\n",
    "        'package1',\n",
    "        'package2',\n",
    "    ],\n",
    "    entry_points={\n",
    "        'console_scripts': [\n",
    "            'your_command=your_module:main_function',\n",
    "        ],\n",
    "    },\n",
    "    author='Your Name',\n",
    "    author_email='your.email@example.com',\n",
    "    description='A brief description of your project',\n",
    "    long_description=open('README.md').read(),\n",
    "    long_description_content_type='text/markdown',\n",
    "    url='https://github.com/yourusername/your_project',\n",
    "    classifiers=[\n",
    "        'Development Status :: 3 - Alpha',\n",
    "        'Intended Audience :: Developers',\n",
    "        'License :: OSI Approved :: MIT License',\n",
    "        'Programming Language :: Python :: 3',\n",
    "        'Programming Language :: Python :: 3.7',\n",
    "        'Programming Language :: Python :: 3.8',\n",
    "        'Programming Language :: Python :: 3.9',\n",
    "    ],\n",
    "    python_requires='>=3.7',\n",
    ")"
   ]
  },
  {
   "cell_type": "markdown",
   "id": "b49332a6",
   "metadata": {},
   "source": [
    "## 4. Details zur setup.py \n"
   ]
  },
  {
   "cell_type": "markdown",
   "id": "ccff07d5",
   "metadata": {},
   "source": [
    "### Theorie: Inhalt und Struktur der setup.py\n",
    "\n",
    "Die `setup.py`-Datei enthält Metadaten über das Paket sowie Informationen über dessen Abhängigkeiten. Ein einfaches Beispiel sieht folgendermaßen aus:\n",
    "\n",
    "```python\n",
    "from setuptools import setup, find_packages\n",
    "\n",
    "setup(\n",
    "    name='mypackage',\n",
    "    version='0.1',\n",
    "    packages=find_packages(),\n",
    "    install_requires=[\n",
    "        'requests',\n",
    "    ],\n",
    ")\n",
    "```"
   ]
  },
  {
   "cell_type": "markdown",
   "id": "1ed483a2",
   "metadata": {},
   "source": [
    "### Praxis: Beispiel einer setup.py-Datei erklären und anpassen\n"
   ]
  },
  {
   "cell_type": "code",
   "execution_count": 2,
   "id": "bfd9f680",
   "metadata": {},
   "outputs": [
    {
     "name": "stdout",
     "output_type": "stream",
     "text": [
      "zsh:1: no such file or directory: mypackage/setup.py\n"
     ]
    }
   ],
   "source": [
    "# Beispiel setup.py-Datei anpassen\n",
    "!echo \"from setuptools import setup, find_packages\\n\\nsetup(\\n    name='mypackage',\\n    version='0.1',\\n    packages=find_packages(),\\n    install_requires=['requests'],\\n)\" > mypackage/setup.py"
   ]
  },
  {
   "cell_type": "markdown",
   "id": "db94da9a",
   "metadata": {},
   "source": [
    "## 5. Lokale Installation und Testen des eigenen Packages\n"
   ]
  },
  {
   "cell_type": "markdown",
   "id": "81cb67ff",
   "metadata": {},
   "source": [
    "### Theorie: Unterschied zwischen regulärer und editierbarer Installation\n",
    "\n",
    "Bei der regulären Installation wird das Paket fest installiert, während bei der editierbaren Installation (`pip install -e .`) Änderungen im Quellcode sofort wirksam werden, ohne dass das Paket neu installiert werden muss."
   ]
  },
  {
   "cell_type": "markdown",
   "id": "4fbaf6ce",
   "metadata": {},
   "source": [
    "### Praxis: Installation des eigenen Packages lokal und editierbar\n"
   ]
  },
  {
   "cell_type": "code",
   "execution_count": null,
   "id": "0b22f609",
   "metadata": {},
   "outputs": [],
   "source": [
    "# Lokale Installation des eigenen Packages\n",
    "!pip install -e ./mypackage"
   ]
  },
  {
   "cell_type": "code",
   "execution_count": null,
   "id": "cb5f3925",
   "metadata": {},
   "outputs": [],
   "source": [
    "# Importieren und Testen der eigenen Module und Funktionen\n",
    "import mypackage.mymodule as mm\n",
    "mm.hello()"
   ]
  },
  {
   "cell_type": "markdown",
   "id": "d214a801",
   "metadata": {},
   "source": [
    "## 6. Überblick über die Veröffentlichung auf PyPI \n"
   ]
  },
  {
   "cell_type": "markdown",
   "id": "8473725c",
   "metadata": {},
   "source": [
    "### Theorie: Schritte zur Veröffentlichung eines Pakets auf PyPI\n",
    "\n",
    "1. Erstellung eines Accounts auf [PyPI](https://pypi.org/)\n",
    "2. Vorbereitung des Pakets für die Veröffentlichung\n",
    "3. Hochladen des Pakets mit `twine`\n",
    "\n",
    "#### Beispiel-Befehle:\n",
    "\n",
    "```sh\n",
    "python setup.py sdist bdist_wheel\n",
    "twine upload dist/*\n",
    "```"
   ]
  },
  {
   "cell_type": "markdown",
   "id": "bf9c154b",
   "metadata": {},
   "source": [
    "### Übung: Erstellung eines zweiten kleinen Packages\n",
    "\n",
    "Erstelle ein neues Package mit dem Namen `newpackage`, das ein Modul `greet` enthält. Das Modul sollte eine Funktion `say_hello` definieren, die den Text 'Hello from newpackage!' ausgibt. Erstelle eine `setup.py`-Datei und installiere das Package lokal und editierbar."
   ]
  },
  {
   "cell_type": "code",
   "execution_count": null,
   "id": "83fbbaf9",
   "metadata": {},
   "outputs": [],
   "source": [
    "# Erstellung des neuen Packages\n",
    "!mkdir newpackage\n",
    "!touch newpackage/__init__.py\n",
    "!echo \"def say_hello():\\n    print('Hello from newpackage!')\" > newpackage/greet.py\n",
    "\n",
    "# Erstellung der setup.py-Datei für das neue Package\n",
    "!echo \"from setuptools import setup, find_packages\\n\\nsetup(\\n    name='newpackage',\\n    version='0.1',\\n    packages=find_packages(),\\n    install_requires=[],\\n)\" > newpackage/setup.py\n",
    "\n",
    "# Installation des neuen Packages\n",
    "!pip install -e ./newpackage"
   ]
  },
  {
   "cell_type": "code",
   "execution_count": null,
   "id": "43e96658",
   "metadata": {},
   "outputs": [],
   "source": [
    "# Importieren und Testen des neuen Packages\n",
    "import newpackage.greet as ng\n",
    "ng.say_hello()"
   ]
  },
  {
   "cell_type": "code",
   "execution_count": null,
   "id": "8f2aacad-331b-4d35-a1c2-0d866a2ede11",
   "metadata": {},
   "outputs": [],
   "source": []
  }
 ],
 "metadata": {
  "kernelspec": {
   "display_name": "Python 3 (ipykernel)",
   "language": "python",
   "name": "python3"
  },
  "language_info": {
   "codemirror_mode": {
    "name": "ipython",
    "version": 3
   },
   "file_extension": ".py",
   "mimetype": "text/x-python",
   "name": "python",
   "nbconvert_exporter": "python",
   "pygments_lexer": "ipython3",
   "version": "3.12.3"
  }
 },
 "nbformat": 4,
 "nbformat_minor": 5
}
