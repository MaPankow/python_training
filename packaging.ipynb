{
 "cells": [
  {
   "cell_type": "markdown",
   "id": "d25618ec",
   "metadata": {},
   "source": [
    "# Packaging\n"
   ]
  },
  {
   "cell_type": "markdown",
   "id": "cd6c121b",
   "metadata": {},
   "source": [
    "## 1. Einführung in Python Packages \n"
   ]
  },
  {
   "cell_type": "markdown",
   "id": "24a19830",
   "metadata": {},
   "source": [
    "### Theorie: Was ist ein Package?\n",
    "\n",
    "Ein Package ist eine Sammlung von Python-Modulen, die in einem Verzeichnis mit einer speziellen `__init__.py`-Datei organisiert sind. Diese Struktur ermöglicht es, den Code besser zu organisieren und wiederzuverwenden."
   ]
  },
  {
   "cell_type": "markdown",
   "id": "48131d9a",
   "metadata": {},
   "source": [
    "### Praxis: Beispiel für ein einfaches Package\n"
   ]
  },
  {
   "cell_type": "code",
   "execution_count": null,
   "id": "ebeaa55c",
   "metadata": {},
   "outputs": [],
   "source": [
    "# Beispiel für ein einfaches Package\n",
    "!mkdir mypackage\n",
    "!touch mypackage/__init__.py\n",
    "!echo \"def hello():\\n    print('Hello, world!')\" > mypackage/mymodule.py\n",
    "import mypackage.mymodule as mm\n",
    "mm.hello()"
   ]
  },
  {
   "cell_type": "markdown",
   "id": "4bacaf1c",
   "metadata": {},
   "source": [
    "## 2. Installation von Packages mit pip\n"
   ]
  },
  {
   "cell_type": "markdown",
   "id": "eb5cccb8",
   "metadata": {},
   "source": [
    "### Theorie: Was ist pip?\n",
    "\n",
    "pip ist ein Paketverwaltungssystem für Python, mit dem man Pakete aus dem Python Package Index (PyPI) oder aus lokalen Quellen installieren kann."
   ]
  },
  {
   "cell_type": "markdown",
   "id": "1094f849",
   "metadata": {},
   "source": [
    "### Praxis: Installation eines Beispiel-Packages von PyPI\n"
   ]
  },
  {
   "cell_type": "markdown",
   "id": "5b1775bf-3594-4940-bdd5-ba4ae1b7b1f5",
   "metadata": {},
   "source": [
    "### Installation eines Beispiel-Packages von PyPI\n",
    "```\n",
    "!python3 -m venv .venv     \n",
    "!source .venv/bin/activate              \n",
    "!pip install requests\n",
    "````"
   ]
  },
  {
   "cell_type": "markdown",
   "id": "8a54dcee",
   "metadata": {},
   "source": [
    "### Praxis: Installation eines lokal gespeicherten Packages\n"
   ]
  },
  {
   "cell_type": "code",
   "execution_count": null,
   "id": "d9c2bb77",
   "metadata": {},
   "outputs": [],
   "source": [
    "# Installation eines lokal gespeicherten Packages\n",
    "!pip install -e ./mypackage"
   ]
  },
  {
   "cell_type": "markdown",
   "id": "438c526a",
   "metadata": {},
   "source": [
    "## 3. Aufbau eines eigenen Packages \n"
   ]
  },
  {
   "cell_type": "markdown",
   "id": "b94db1e2",
   "metadata": {},
   "source": [
    "### Theorie: Struktur eines Python-Packages\n",
    "\n",
    "Eine typische Pythonstruktur sieht folgendermaßen aus:\n",
    "\n",
    "```\n",
    "my_project/\n",
    "├── my_package/\n",
    "│   ├── __init__.py\n",
    "│   ├── module1.py\n",
    "│   ├── module2.py\n",
    "│   └── subpackage/\n",
    "│       ├── __init__.py\n",
    "│       └── module3.py\n",
    "├── tests/\n",
    "│   ├── __init__.py\n",
    "│   ├── test_module1.py\n",
    "│   └── test_module2.py\n",
    "├── README.md\n",
    "├── setup.py\n",
    "└── requirements.txt\n",
    "\n",
    "```"
   ]
  },
  {
   "cell_type": "markdown",
   "id": "1f52c407-a6b6-41af-8b21-8ff8b1edee71",
   "metadata": {},
   "source": [
    "pip freeze > requirements.txt"
   ]
  },
  {
   "cell_type": "markdown",
   "id": "19b86944",
   "metadata": {},
   "source": [
    "### Praxis: Schritt-für-Schritt-Erstellung eines eigenen kleinen Packages\n"
   ]
  },
  {
   "cell_type": "code",
   "execution_count": null,
   "id": "5809515d",
   "metadata": {},
   "outputs": [],
   "source": [
    "# Erstellen des Package-Verzeichnisses und der Module\n",
    "!mkdir mypackage\n",
    "!touch mypackage/__init__.py\n",
    "!echo \"def hello():\\n    print('Hello, world!')\" > mypackage/mymodule.py\n",
    "\n",
    "# Erstellen der setup.py-Datei\n",
    "!echo \"from setuptools import setup, find_packages\\n\\nsetup(\\n    name='mypackage',\\n    version='0.1',\\n    packages=find_packages(),\\n    install_requires=[],\\n)\" > mypackage/setup.py"
   ]
  },
  {
   "cell_type": "markdown",
   "id": "b648cd0e-aa97-4e9f-be2c-072120357310",
   "metadata": {},
   "source": [
    "Die Datei `setup.py` ist ein wesentliches Element für das Verpacken und Verteilen von Python-Projekten. Sie enthält Informationen über Ihr Projekt und Anweisungen zur Installation. Hier sind die detaillierten Aspekte der `setup.py` auf Deutsch:\n",
    "\n",
    "### Grundstruktur\n",
    "\n",
    "Eine grundlegende `setup.py`-Datei sieht typischerweise so aus:\n",
    "\n",
    "```python\n",
    "from setuptools import setup, find_packages\n",
    "\n",
    "setup(\n",
    "    name=\"mein_paket\",\n",
    "    version=\"0.1\",\n",
    "    packages=find_packages(),\n",
    "    install_requires=[\n",
    "        # Hier kommen Abhängigkeiten rein, z.B.:\n",
    "        # 'requests',\n",
    "    ],\n",
    "    entry_points={\n",
    "        'console_scripts': [\n",
    "            'mein-skript=mein_paket.modul:hauptfunktion',\n",
    "        ],\n",
    "    },\n",
    ")\n",
    "```\n",
    "\n",
    "### Wichtige Felder\n",
    "\n",
    "- **name**: Der Name Ihres Pakets. Dies ist der Name, unter dem das Paket bei PyPI (Python Package Index) veröffentlicht wird.\n",
    "- **version**: Die Version des Pakets. Versionsnummern folgen üblicherweise dem Schema MAJOR.MINOR.PATCH (z.B. 1.0.0).\n",
    "- **packages**: Eine Liste von Python-Paketen, die im Projekt enthalten sind. `find_packages()` durchsucht das Projektverzeichnis und findet alle Pakete automatisch.\n",
    "- **install_requires**: Eine Liste der Abhängigkeiten, die für Ihr Projekt benötigt werden. Diese werden während der Installation des Pakets ebenfalls installiert.\n",
    "- **entry_points**: Definiert Konsolenskripte oder GUI-Apps, die bei der Installation des Pakets zur Verfügung gestellt werden.\n",
    "\n",
    "### Zusätzliche Felder\n",
    "\n",
    "- **description**: Eine kurze Beschreibung des Pakets.\n",
    "- **long_description**: Eine längere Beschreibung, oft aus einer separaten README-Datei geladen.\n",
    "- **author**: Der Name des Autors des Pakets.\n",
    "- **author_email**: Die E-Mail-Adresse des Autors.\n",
    "- **url**: Die URL der Projektseite.\n",
    "- **license**: Die Lizenz, unter der das Paket veröffentlicht wird (z.B. MIT, GPL).\n",
    "- **classifiers**: Eine Liste von Klassifizierungen, die zur Kategorisierung des Pakets verwendet werden. Diese sind standardisiert und helfen Benutzern, Pakete zu finden.\n",
    "\n",
    "### Beispiel einer erweiterten `setup.py`\n",
    "\n",
    "```python\n",
    "from setuptools import setup, find_packages\n",
    "from pathlib import Path\n",
    "\n",
    "# Lese die README-Datei\n",
    "this_directory = Path(__file__).parent\n",
    "long_description = (this_directory / \"README.md\").read_text()\n",
    "\n",
    "setup(\n",
    "    name=\"mein_paket\",\n",
    "    version=\"0.1.0\",\n",
    "    packages=find_packages(),\n",
    "    install_requires=[\n",
    "        'requests',\n",
    "        'numpy',\n",
    "    ],\n",
    "    entry_points={\n",
    "        'console_scripts': [\n",
    "            'mein-skript=mein_paket.modul:hauptfunktion',\n",
    "        ],\n",
    "    },\n",
    "    description=\"Ein Beispiel-Paket\",\n",
    "    long_description=long_description,\n",
    "    long_description_content_type='text/markdown',\n",
    "    author=\"Ihr Name\",\n",
    "    author_email=\"ihr.email@example.com\",\n",
    "    url=\"https://github.com/ihregithub/mein_paket\",\n",
    "    license=\"MIT\",\n",
    "    classifiers=[\n",
    "        'Development Status :: 3 - Alpha',\n",
    "        'Intended Audience :: Developers',\n",
    "        'License :: OSI Approved :: MIT License',\n",
    "        'Programming Language :: Python :: 3',\n",
    "        'Programming Language :: Python :: 3.8',\n",
    "        'Programming Language :: Python :: 3.9',\n",
    "        'Programming Language :: Python :: 3.10',\n",
    "    ],\n",
    ")\n",
    "```\n",
    "\n",
    "### Hinweise zur Verwendung\n",
    "\n",
    "- **Installation**: Um Ihr Paket zu installieren, navigieren Sie in das Verzeichnis, das die `setup.py`-Datei enthält, und führen Sie `pip install .` aus.\n",
    "- **Veröffentlichung**: Um Ihr Paket auf PyPI zu veröffentlichen, können Sie Tools wie `twine` verwenden. Zuerst erstellen Sie die Distributionen mit `python setup.py sdist bdist_wheel`, und dann laden Sie sie mit `twine upload dist/*` hoch.\n",
    "\n",
    "Die `setup.py`-Datei ist äußerst flexibel und ermöglicht es Ihnen, viele verschiedene Aspekte Ihres Projekts zu konfigurieren. Weitere Informationen finden Sie in der offiziellen [Setuptools-Dokumentation](https://setuptools.pypa.io/en/latest/setuptools.html)."
   ]
  },
  {
   "cell_type": "markdown",
   "id": "b49332a6",
   "metadata": {},
   "source": [
    "## 4. Details zur setup.py \n"
   ]
  },
  {
   "cell_type": "markdown",
   "id": "ccff07d5",
   "metadata": {},
   "source": [
    "### Theorie: Inhalt und Struktur der setup.py\n",
    "\n",
    "Die `setup.py`-Datei enthält Metadaten über das Paket sowie Informationen über dessen Abhängigkeiten. Ein einfaches Beispiel sieht folgendermaßen aus:\n",
    "\n",
    "```python\n",
    "from setuptools import setup, find_packages\n",
    "\n",
    "setup(\n",
    "    name='mypackage',\n",
    "    version='0.1',\n",
    "    packages=find_packages(),\n",
    "    install_requires=[\n",
    "        'requests',\n",
    "    ],\n",
    ")\n",
    "```"
   ]
  },
  {
   "cell_type": "markdown",
   "id": "1ed483a2",
   "metadata": {},
   "source": [
    "### Praxis: Beispiel einer setup.py-Datei erklären und anpassen\n"
   ]
  },
  {
   "cell_type": "code",
   "execution_count": 2,
   "id": "bfd9f680",
   "metadata": {},
   "outputs": [
    {
     "name": "stdout",
     "output_type": "stream",
     "text": [
      "zsh:1: no such file or directory: mypackage/setup.py\n"
     ]
    }
   ],
   "source": [
    "# Beispiel setup.py-Datei anpassen\n",
    "!echo \"from setuptools import setup, find_packages\\n\\nsetup(\\n    name='mypackage',\\n    version='0.1',\\n    packages=find_packages(),\\n    install_requires=['requests'],\\n)\" > mypackage/setup.py"
   ]
  },
  {
   "cell_type": "markdown",
   "id": "db94da9a",
   "metadata": {},
   "source": [
    "## 5. Lokale Installation und Testen des eigenen Packages\n"
   ]
  },
  {
   "cell_type": "markdown",
   "id": "81cb67ff",
   "metadata": {},
   "source": [
    "### Theorie: Unterschied zwischen regulärer und editierbarer Installation\n",
    "\n",
    "Bei der regulären Installation wird das Paket fest installiert, während bei der editierbaren Installation (`pip install -e .`) Änderungen im Quellcode sofort wirksam werden, ohne dass das Paket neu installiert werden muss."
   ]
  },
  {
   "cell_type": "markdown",
   "id": "4fbaf6ce",
   "metadata": {},
   "source": [
    "### Praxis: Installation des eigenen Packages lokal und editierbar\n"
   ]
  },
  {
   "cell_type": "code",
   "execution_count": null,
   "id": "0b22f609",
   "metadata": {},
   "outputs": [],
   "source": [
    "# Lokale Installation des eigenen Packages\n",
    "!pip install -e ./mypackage"
   ]
  },
  {
   "cell_type": "code",
   "execution_count": null,
   "id": "cb5f3925",
   "metadata": {},
   "outputs": [],
   "source": [
    "# Importieren und Testen der eigenen Module und Funktionen\n",
    "import mypackage.mymodule as mm\n",
    "mm.hello()"
   ]
  },
  {
   "cell_type": "markdown",
   "id": "d214a801",
   "metadata": {},
   "source": [
    "## 6. Überblick über die Veröffentlichung auf PyPI \n"
   ]
  },
  {
   "cell_type": "markdown",
   "id": "8473725c",
   "metadata": {},
   "source": [
    "### Theorie: Schritte zur Veröffentlichung eines Pakets auf PyPI\n",
    "\n",
    "1. Erstellung eines Accounts auf [PyPI](https://pypi.org/)\n",
    "2. Vorbereitung des Pakets für die Veröffentlichung\n",
    "3. Hochladen des Pakets mit `twine`\n",
    "\n",
    "#### Beispiel-Befehle:\n",
    "\n",
    "```sh\n",
    "python setup.py sdist bdist_wheel\n",
    "twine upload dist/*\n",
    "```"
   ]
  },
  {
   "cell_type": "markdown",
   "id": "bf9c154b",
   "metadata": {},
   "source": [
    "### Übung: Erstellung eines zweiten kleinen Packages\n",
    "\n",
    "Erstelle ein neues Package mit dem Namen `newpackage`, das ein Modul `greet` enthält. Das Modul sollte eine Funktion `say_hello` definieren, die den Text 'Hello from newpackage!' ausgibt. Erstelle eine `setup.py`-Datei und installiere das Package lokal und editierbar."
   ]
  },
  {
   "cell_type": "code",
   "execution_count": null,
   "id": "83fbbaf9",
   "metadata": {},
   "outputs": [],
   "source": [
    "# Erstellung des neuen Packages\n",
    "!mkdir newpackage\n",
    "!touch newpackage/__init__.py\n",
    "!echo \"def say_hello():\\n    print('Hello from newpackage!')\" > newpackage/greet.py\n",
    "\n",
    "# Erstellung der setup.py-Datei für das neue Package\n",
    "!echo \"from setuptools import setup, find_packages\\n\\nsetup(\\n    name='newpackage',\\n    version='0.1',\\n    packages=find_packages(),\\n    install_requires=[],\\n)\" > newpackage/setup.py\n",
    "\n",
    "# Installation des neuen Packages\n",
    "!pip install -e ./newpackage"
   ]
  },
  {
   "cell_type": "code",
   "execution_count": null,
   "id": "43e96658",
   "metadata": {},
   "outputs": [],
   "source": [
    "# Importieren und Testen des neuen Packages\n",
    "import newpackage.greet as ng\n",
    "ng.say_hello()"
   ]
  },
  {
   "cell_type": "code",
   "execution_count": null,
   "id": "8f2aacad-331b-4d35-a1c2-0d866a2ede11",
   "metadata": {},
   "outputs": [],
   "source": []
  }
 ],
 "metadata": {
  "kernelspec": {
   "display_name": "Python 3 (ipykernel)",
   "language": "python",
   "name": "python3"
  },
  "language_info": {
   "codemirror_mode": {
    "name": "ipython",
    "version": 3
   },
   "file_extension": ".py",
   "mimetype": "text/x-python",
   "name": "python",
   "nbconvert_exporter": "python",
   "pygments_lexer": "ipython3",
   "version": "3.12.3"
  }
 },
 "nbformat": 4,
 "nbformat_minor": 5
}
